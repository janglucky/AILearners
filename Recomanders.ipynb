{
  "cells": [
    {
      "cell_type": "markdown",
      "metadata": {
        "id": "view-in-github",
        "colab_type": "text"
      },
      "source": [
        "<a href=\"https://colab.research.google.com/github/janglucky/AILearners/blob/master/Recomanders.ipynb\" target=\"_parent\"><img src=\"https://colab.research.google.com/assets/colab-badge.svg\" alt=\"Open In Colab\"/></a>"
      ]
    },
    {
      "cell_type": "code",
      "execution_count": 1,
      "metadata": {
        "colab": {
          "base_uri": "https://localhost:8080/"
        },
        "id": "TopNMiSIHVh0",
        "outputId": "886681a4-1d2a-4cab-971a-800269299bdd"
      },
      "outputs": [
        {
          "output_type": "stream",
          "name": "stdout",
          "text": [
            "Mounted at /content/drive\n"
          ]
        }
      ],
      "source": [
        "# 挂载，把目录放进来 \n",
        "\n",
        "from google.colab import drive\n",
        " \n",
        "drive.mount('/content/drive')"
      ]
    },
    {
      "cell_type": "code",
      "execution_count": null,
      "metadata": {
        "id": "1nmELxYxcNRp"
      },
      "outputs": [],
      "source": [
        "# 切换到工作目录"
      ]
    },
    {
      "cell_type": "code",
      "execution_count": 2,
      "metadata": {
        "id": "aJP9C7sKT-4S"
      },
      "outputs": [],
      "source": [
        "import os\n",
        "os.chdir(\"/content/drive/MyDrive\")"
      ]
    },
    {
      "cell_type": "code",
      "execution_count": null,
      "metadata": {
        "id": "pjxMdIgzcM-7"
      },
      "outputs": [],
      "source": [
        "# 切换到你的目录（动态）"
      ]
    },
    {
      "cell_type": "code",
      "source": [
        "import os\n",
        "os.chdir(\"LeNet\")"
      ],
      "metadata": {
        "id": "8KboZgnlUeOe"
      },
      "execution_count": 3,
      "outputs": []
    },
    {
      "cell_type": "code",
      "execution_count": 4,
      "metadata": {
        "colab": {
          "base_uri": "https://localhost:8080/"
        },
        "id": "69qkA2KQLt2L",
        "outputId": "ab9bbb94-1fd7-44ec-8593-631d957fe8ea"
      },
      "outputs": [
        {
          "output_type": "stream",
          "name": "stdout",
          "text": [
            "main.py  models\n"
          ]
        }
      ],
      "source": [
        "!ls"
      ]
    },
    {
      "cell_type": "code",
      "source": [
        "!mkdir models"
      ],
      "metadata": {
        "id": "vLtUICz0X7IL"
      },
      "execution_count": null,
      "outputs": []
    },
    {
      "cell_type": "code",
      "execution_count": 5,
      "metadata": {
        "id": "pfRlgTsJZpaN",
        "colab": {
          "base_uri": "https://localhost:8080/"
        },
        "outputId": "a21ddcaf-b7ce-43c2-c418-0dbd706c559e"
      },
      "outputs": [
        {
          "output_type": "stream",
          "name": "stdout",
          "text": [
            "Downloading http://fashion-mnist.s3-website.eu-central-1.amazonaws.com/train-images-idx3-ubyte.gz\n",
            "Downloading http://fashion-mnist.s3-website.eu-central-1.amazonaws.com/train-images-idx3-ubyte.gz to /root/Datasets/FashionMNIST/FashionMNIST/raw/train-images-idx3-ubyte.gz\n",
            "100% 26421880/26421880 [00:03<00:00, 6737899.32it/s] \n",
            "Extracting /root/Datasets/FashionMNIST/FashionMNIST/raw/train-images-idx3-ubyte.gz to /root/Datasets/FashionMNIST/FashionMNIST/raw\n",
            "\n",
            "Downloading http://fashion-mnist.s3-website.eu-central-1.amazonaws.com/train-labels-idx1-ubyte.gz\n",
            "Downloading http://fashion-mnist.s3-website.eu-central-1.amazonaws.com/train-labels-idx1-ubyte.gz to /root/Datasets/FashionMNIST/FashionMNIST/raw/train-labels-idx1-ubyte.gz\n",
            "100% 29515/29515 [00:00<00:00, 54938.18it/s]\n",
            "Extracting /root/Datasets/FashionMNIST/FashionMNIST/raw/train-labels-idx1-ubyte.gz to /root/Datasets/FashionMNIST/FashionMNIST/raw\n",
            "\n",
            "Downloading http://fashion-mnist.s3-website.eu-central-1.amazonaws.com/t10k-images-idx3-ubyte.gz\n",
            "Downloading http://fashion-mnist.s3-website.eu-central-1.amazonaws.com/t10k-images-idx3-ubyte.gz to /root/Datasets/FashionMNIST/FashionMNIST/raw/t10k-images-idx3-ubyte.gz\n",
            "100% 4422102/4422102 [00:02<00:00, 2133490.95it/s]\n",
            "Extracting /root/Datasets/FashionMNIST/FashionMNIST/raw/t10k-images-idx3-ubyte.gz to /root/Datasets/FashionMNIST/FashionMNIST/raw\n",
            "\n",
            "Downloading http://fashion-mnist.s3-website.eu-central-1.amazonaws.com/t10k-labels-idx1-ubyte.gz\n",
            "Downloading http://fashion-mnist.s3-website.eu-central-1.amazonaws.com/t10k-labels-idx1-ubyte.gz to /root/Datasets/FashionMNIST/FashionMNIST/raw/t10k-labels-idx1-ubyte.gz\n",
            "100% 5148/5148 [00:00<00:00, 22421886.80it/s]\n",
            "Extracting /root/Datasets/FashionMNIST/FashionMNIST/raw/t10k-labels-idx1-ubyte.gz to /root/Datasets/FashionMNIST/FashionMNIST/raw\n",
            "\n",
            "/usr/local/lib/python3.7/dist-packages/torch/utils/data/dataloader.py:560: UserWarning: This DataLoader will create 4 worker processes in total. Our suggested max number of worker in current system is 2, which is smaller than what this DataLoader is going to create. Please be aware that excessive worker creation might get DataLoader running slow or even freeze, lower the worker number to avoid potential slowness/freeze if necessary.\n",
            "  cpuset_checked))\n",
            "training on  cpu\n",
            "epoch 1, loss 0.9249, train acc 0.662, test acc 0.739, time 19.8 sec\n",
            "epoch 2, loss 0.5781, train acc 0.780, test acc 0.787, time 14.5 sec\n",
            "epoch 3, loss 0.4984, train acc 0.815, test acc 0.825, time 14.4 sec\n",
            "epoch 4, loss 0.4487, train acc 0.839, test acc 0.843, time 14.7 sec\n",
            "epoch 5, loss 0.4089, train acc 0.853, test acc 0.843, time 14.5 sec\n",
            "epoch 6, loss 0.3766, train acc 0.863, test acc 0.864, time 14.5 sec\n",
            "epoch 7, loss 0.3562, train acc 0.870, test acc 0.865, time 16.8 sec\n",
            "epoch 8, loss 0.3429, train acc 0.874, test acc 0.868, time 14.3 sec\n",
            "epoch 9, loss 0.3289, train acc 0.877, test acc 0.871, time 14.3 sec\n",
            "epoch 10, loss 0.3181, train acc 0.883, test acc 0.870, time 14.5 sec\n",
            "epoch 11, loss 0.3078, train acc 0.886, test acc 0.877, time 14.6 sec\n",
            "epoch 12, loss 0.3014, train acc 0.888, test acc 0.880, time 14.5 sec\n",
            "epoch 13, loss 0.2925, train acc 0.892, test acc 0.881, time 14.5 sec\n",
            "epoch 14, loss 0.2841, train acc 0.894, test acc 0.887, time 16.4 sec\n",
            "epoch 15, loss 0.2780, train acc 0.897, test acc 0.883, time 14.8 sec\n",
            "epoch 16, loss 0.2714, train acc 0.899, test acc 0.881, time 14.7 sec\n",
            "epoch 17, loss 0.2675, train acc 0.901, test acc 0.886, time 14.9 sec\n",
            "epoch 18, loss 0.2619, train acc 0.902, test acc 0.883, time 14.4 sec\n",
            "epoch 19, loss 0.2555, train acc 0.904, test acc 0.885, time 14.6 sec\n",
            "epoch 20, loss 0.2470, train acc 0.907, test acc 0.892, time 14.6 sec\n"
          ]
        }
      ],
      "source": [
        "!python main.py"
      ]
    },
    {
      "cell_type": "code",
      "execution_count": null,
      "metadata": {
        "colab": {
          "base_uri": "https://localhost:8080/"
        },
        "id": "jsPUaJyRHwR_",
        "outputId": "5e10ce4c-799a-4d32-8cc9-55744afdbb09"
      },
      "outputs": [
        {
          "name": "stdout",
          "output_type": "stream",
          "text": [
            "Reinitialized existing Git repository in /content/.git/\n",
            "[master 3e5c712] first commit\n",
            " 1 file changed, 1 insertion(+)\n",
            "fatal: remote origin already exists.\n",
            "fatal: could not read Username for 'https://github.com': No such device or address\n"
          ]
        }
      ],
      "source": [
        "\n",
        "!echo \"# recomander-modeling\" >> README.md\n",
        "!git init\n",
        "!git add README.md\n",
        "!git commit -m \"first commit\"\n",
        "!git branch -M master\n",
        "!git remote add origin https://github.com/janglucky/recomander-modeling.git\n",
        "!git push -u origin master"
      ]
    },
    {
      "cell_type": "markdown",
      "metadata": {
        "id": "uzijgmGALB7-"
      },
      "source": [
        ""
      ]
    },
    {
      "cell_type": "code",
      "execution_count": null,
      "metadata": {
        "colab": {
          "base_uri": "https://localhost:8080/"
        },
        "id": "Y532EYK8SHb9",
        "outputId": "16dbeea2-f7c9-4760-ca72-c8ae9f130baa"
      },
      "outputs": [
        {
          "name": "stdout",
          "output_type": "stream",
          "text": [
            "Cloning into 'recomander-modeling'...\n",
            "Host key verification failed.\r\n",
            "fatal: Could not read from remote repository.\n",
            "\n",
            "Please make sure you have the correct access rights\n",
            "and the repository exists.\n"
          ]
        }
      ],
      "source": [
        "!git clone git@github.com:janglucky/recomander-modeling.git"
      ]
    },
    {
      "cell_type": "code",
      "execution_count": null,
      "metadata": {
        "colab": {
          "base_uri": "https://localhost:8080/"
        },
        "id": "As4U3PaFSg82",
        "outputId": "3127ba69-02ec-49f1-9602-845a7ef97895"
      },
      "outputs": [
        {
          "name": "stdout",
          "output_type": "stream",
          "text": [
            "cat: /root/.ssh/id_rsa.pub: No such file or directory\n"
          ]
        }
      ],
      "source": [
        "!cat /root/.ssh/id_rsa.pub"
      ]
    },
    {
      "cell_type": "markdown",
      "source": [
        "测试GPU"
      ],
      "metadata": {
        "id": "Yb7q0NzHZjjC"
      }
    },
    {
      "cell_type": "code",
      "execution_count": null,
      "metadata": {
        "colab": {
          "base_uri": "https://localhost:8080/"
        },
        "id": "9Bi7uBpjKb-y",
        "outputId": "962d94e6-0172-4da5-eb4d-dbadc73e2d26"
      },
      "outputs": [
        {
          "output_type": "stream",
          "name": "stdout",
          "text": [
            "True\n",
            "cuda:0\n",
            "Tesla T4\n",
            "tensor([[0.1994, 0.5497, 0.8198],\n",
            "        [0.8031, 0.7134, 0.9434],\n",
            "        [0.0465, 0.9531, 0.7836]], device='cuda:0')\n"
          ]
        }
      ],
      "source": [
        "import torch\n",
        "flag = torch.cuda.is_available()\n",
        "print(flag)\n",
        " \n",
        "ngpu= 1\n",
        "# Decide which device we want to run on\n",
        "device = torch.device(\"cuda:0\" if (torch.cuda.is_available() and ngpu > 0) else \"cpu\")\n",
        "print(device)\n",
        "print(torch.cuda.get_device_name(0))\n",
        "print(torch.rand(3,3).cuda()) "
      ]
    }
  ],
  "metadata": {
    "colab": {
      "collapsed_sections": [],
      "name": "Recomanders",
      "provenance": [],
      "authorship_tag": "ABX9TyPE/ImELXWBQcmYyJ7T0kh7",
      "include_colab_link": true
    },
    "kernelspec": {
      "display_name": "Python 3",
      "name": "python3"
    },
    "language_info": {
      "name": "python"
    },
    "gpuClass": "standard"
  },
  "nbformat": 4,
  "nbformat_minor": 0
}